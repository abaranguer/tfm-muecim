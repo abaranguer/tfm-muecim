{
 "cells": [
  {
   "cell_type": "code",
   "execution_count": 2,
   "id": "3b0d47d1",
   "metadata": {},
   "outputs": [],
   "source": [
    "with open('sessió-completa-entrenament-gpt2.txt', 'r') as fd:\n",
    "    lines = fd.readlines()\n",
    "    "
   ]
  },
  {
   "cell_type": "code",
   "execution_count": 3,
   "id": "a289a183",
   "metadata": {},
   "outputs": [],
   "source": [
    "losses = []\n",
    "metrics = []\n",
    "num = len(lines)\n",
    "i = 0\n",
    "epoch = 1\n",
    "currentEpoch = 0\n",
    "f1_1 = False\n",
    "while i < num:\n",
    "    line = lines[i].strip()\n",
    "    if line.startswith('Begin epoch'):\n",
    "        currentEpoch = epoch\n",
    "        f1_1 = False\n",
    "        epoch = epoch + 1\n",
    "    if line.startswith(\"{'f1': \"):\n",
    "        if currentEpoch == 1:\n",
    "            metrics.append(line)\n",
    "        else:\n",
    "            if not f1_1:\n",
    "                f1_1 = True\n",
    "            else: \n",
    "                if f1_1:\n",
    "                    metrics.append(line)\n",
    "    if 'Training Loss' in line:\n",
    "        i = i + 1\n",
    "        line = lines[i].strip()\n",
    "        losses.append(line)\n",
    "    i = i + 1\n",
    "    "
   ]
  },
  {
   "cell_type": "code",
   "execution_count": 4,
   "id": "d0ec4c36",
   "metadata": {},
   "outputs": [],
   "source": [
    "epoch = 0\n",
    "with open('gpt2-metrics.csv', 'w') as fd:\n",
    "    fd.write('\"epoch\",\"f1\",\"roc_auc\",\"accuracy\"\\n')\n",
    "    for metric in metrics:\n",
    "        items = metric.split(',')\n",
    "        for item in items:\n",
    "            elems = item.split(':')\n",
    "            elem = elems[1]\n",
    "            if 'f1' in elems[0]:\n",
    "                f1 = float(elem[1:])\n",
    "            if 'roc_auc' in elems[0]:\n",
    "                roc_auc = float(elem[12 : -1])\n",
    "            if 'accuracy' in elems[0]:\n",
    "                accuracy = float(elem[1: -1])\n",
    "        fd.write(f'{epoch},{f1:.6f},{roc_auc:.6f},{accuracy:.6f}\\n')\n",
    "        epoch = epoch +1"
   ]
  },
  {
   "cell_type": "code",
   "execution_count": 5,
   "id": "780f926b",
   "metadata": {},
   "outputs": [],
   "source": [
    "epoch = 1\n",
    "with open('gpt2-losses.csv', 'w') as fd:\n",
    "    fd.write('\"epoch\",\"training loss\",\"validation loss\",\"model preparation time\",\"f1\",\"roc_auc\",\"accuracy\"\\n')\n",
    "    for loss in losses:\n",
    "        items = loss.split('\\t')\n",
    "        fd.write(f'{epoch},{items[1]},{items[2]},{items[3]},{items[4]},{items[5]},{items[6]}\\n')\n",
    "        epoch = epoch +1"
   ]
  }
 ],
 "metadata": {
  "kernelspec": {
   "display_name": "Python 3 (ipykernel)",
   "language": "python",
   "name": "python3"
  },
  "language_info": {
   "codemirror_mode": {
    "name": "ipython",
    "version": 3
   },
   "file_extension": ".py",
   "mimetype": "text/x-python",
   "name": "python",
   "nbconvert_exporter": "python",
   "pygments_lexer": "ipython3",
   "version": "3.10.16"
  }
 },
 "nbformat": 4,
 "nbformat_minor": 5
}
