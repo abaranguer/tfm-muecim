{
  "cells": [
    {
      "cell_type": "markdown",
      "metadata": {
        "id": "view-in-github",
        "colab_type": "text"
      },
      "source": [
        "<a href=\"https://colab.research.google.com/github/abaranguer/tfm-muecim/blob/main/ColanNotebooks/start_colab_tfm_web.ipynb\" target=\"_parent\"><img src=\"https://colab.research.google.com/assets/colab-badge.svg\" alt=\"Open In Colab\"/></a>"
      ]
    },
    {
      "cell_type": "markdown",
      "metadata": {
        "id": "hQZAUyj-OHva"
      },
      "source": [
        "# START TFM WEB FRONTEND\n",
        "\n",
        "https://deveshsurve.medium.com/running-flask-app-with-google-colab-c9f0c078fb53\n"
      ]
    },
    {
      "cell_type": "code",
      "execution_count": 1,
      "metadata": {
        "colab": {
          "base_uri": "https://localhost:8080/"
        },
        "id": "1_Fo2mv2QJkG",
        "outputId": "fa9c8e2c-ff96-4f26-bbd4-066c3d069042"
      },
      "outputs": [
        {
          "output_type": "stream",
          "name": "stdout",
          "text": [
            "Mounted at /content/drive\n"
          ]
        }
      ],
      "source": [
        "from google.colab import drive\n",
        "drive.mount('/content/drive')"
      ]
    },
    {
      "cell_type": "markdown",
      "source": [],
      "metadata": {
        "id": "wMwOpIi52mwb"
      }
    },
    {
      "cell_type": "code",
      "execution_count": 2,
      "metadata": {
        "id": "HK1irfYzOQ8c",
        "colab": {
          "base_uri": "https://localhost:8080/"
        },
        "outputId": "7b1467de-051c-48bf-a553-7dabd3938bd0"
      },
      "outputs": [
        {
          "output_type": "stream",
          "name": "stdout",
          "text": [
            "cp: cannot stat 'sh/copy_tfm_www.sh': No such file or directory\n"
          ]
        }
      ],
      "source": [
        "!cp /content/drive/MyDrive/TFM-MUECIM/tfm_www.tar .\n",
        "!cd /content; tar xf tfm_www.tar\n",
        "!cp -r /content/drive/MyDrive/TFM-MUECIM/src /content/src\n",
        "!cp -r /content/drive/MyDrive/TFM-MUECIM/sh /content/sh\n",
        "!cp -r /content/drive/MyDrive/TFM-MUECIM/ipynb /content/ipynb\n",
        "!cp -r /content/drive/MyDrive/TFM-MUECIM/txt /content/txt\n",
        "!cp -r /content/drive/MyDrive/TFM-MUECIM/trained-models /content/trained-models\n",
        "!rm /content/tfm_www.tar\n",
        "!cp sh/tar_tfm_www.sh .\n",
        "!cp sh/copy_tfm_www.sh ."
      ]
    },
    {
      "cell_type": "code",
      "execution_count": 3,
      "metadata": {
        "colab": {
          "base_uri": "https://localhost:8080/",
          "height": 35
        },
        "id": "22ctxDRZ0JTS",
        "outputId": "be115e16-6613-4594-ea67-5aefd6fc19b4"
      },
      "outputs": [
        {
          "output_type": "stream",
          "name": "stdout",
          "text": [
            "Per a executar el frontend web del TFM, fes click a https://5000-m-s-3ris64yzlouiw-a.asia-east1-0.prod.colab.dev/index.html\n"
          ]
        }
      ],
      "source": [
        "from google.colab.output import eval_js\n",
        "print(f'Per a executar el frontend web del TFM, fes click a {eval_js(\"google.colab.kernel.proxyPort(5000)\")}/index.html')"
      ]
    },
    {
      "cell_type": "code",
      "source": [
        "import sys\n",
        "baseDir = '/content' #/drive/My Drive/TFM-MUECIM'\n",
        "sys.path.append(baseDir)"
      ],
      "metadata": {
        "id": "EZtPgheiRStf"
      },
      "execution_count": 4,
      "outputs": []
    },
    {
      "cell_type": "code",
      "source": [
        "from tfm_EURLEX57KDataset import EURLEX57KDataset\n",
        "\n",
        "ds = EURLEX57KDataset(baseDir,'tfm_www/csv/TokenizedBERTDataFrame.csv')"
      ],
      "metadata": {
        "id": "HIXZk6GrRlo2"
      },
      "execution_count": 6,
      "outputs": []
    },
    {
      "cell_type": "code",
      "source": [
        "from tfm_50LabelsLabelIndex import LabelIndex\n",
        "\n",
        "datFolder = '/content/tfm_www/dat'\n",
        "labelIndex = LabelIndex(datFolder)"
      ],
      "metadata": {
        "id": "_8llkXTGS0Mc"
      },
      "execution_count": 7,
      "outputs": []
    },
    {
      "cell_type": "code",
      "source": [
        "import os\n",
        "import torch\n",
        "from transformers import AutoTokenizer, BertModel\n",
        "\n",
        "device = 'cuda' if torch.cuda.is_available() else 'cpu'\n",
        "\n",
        "modelFolder = '/content/tfm_www/models'\n",
        "modelFile = '20250216_50L_tfm_BERT_model_epoch_6.pt'\n",
        "\n",
        "torch.serialization.add_safe_globals([BertModel])\n",
        "\n",
        "model = torch.load(os.path.join(modelFolder, modelFile),\n",
        "                   map_location=torch.device(device),\n",
        "                   weights_only=False)\n"
      ],
      "metadata": {
        "id": "X8ujXC05Z-Oa"
      },
      "execution_count": 8,
      "outputs": []
    },
    {
      "cell_type": "code",
      "source": [
        "item = ds.__getitem__(29065)\n",
        "\n",
        "outputs = model(\n",
        "   input_ids=item['input_ids'][0:512].unsqueeze(0),\n",
        "   attention_mask=item['attention_mask'][0:512].unsqueeze(0),\n",
        "   labels=item['labels'].unsqueeze(0))"
      ],
      "metadata": {
        "id": "UTgnyarMP1QW"
      },
      "execution_count": 9,
      "outputs": []
    },
    {
      "cell_type": "code",
      "source": [
        "# source: https://jesusleal.io/2021/04/21/Longformer-multilabel-classification/\n",
        "# calculate metrics\n",
        "import numpy as np\n",
        "from sklearn.metrics import f1_score, roc_auc_score, accuracy_score\n",
        "\n",
        "sigmoid = torch.nn.Sigmoid()\n",
        "probs = sigmoid(outputs.logits[0])\n",
        "threshold = 0.5\n",
        "y_pred = np.zeros(probs.shape)\n",
        "y_pred[np.where(probs >= threshold)] = 1\n",
        "y_true = item['labels'].cpu().numpy() # Convert y_true to a NumPy array\n",
        "f1_micro_average = f1_score(y_true=y_true, y_pred=y_pred, average='micro')\n",
        "roc_auc = roc_auc_score(y_true, y_pred, average = 'micro')\n",
        "accuracy = accuracy_score(y_true, y_pred)\n",
        "\n",
        "metrics = {'f1': f1_micro_average,\n",
        "          'roc_auc': roc_auc,\n",
        "          'accuracy': accuracy}\n",
        "\n"
      ],
      "metadata": {
        "id": "qAtlUJCzdNo6"
      },
      "execution_count": 10,
      "outputs": []
    },
    {
      "cell_type": "code",
      "source": [
        "metrics"
      ],
      "metadata": {
        "colab": {
          "base_uri": "https://localhost:8080/"
        },
        "id": "2DeXmslIdi_c",
        "outputId": "20381a14-b57e-46e0-daef-dde10e4ecb7f"
      },
      "execution_count": 11,
      "outputs": [
        {
          "output_type": "execute_result",
          "data": {
            "text/plain": [
              "{'f1': 1.0, 'roc_auc': 1.0, 'accuracy': 1.0}"
            ]
          },
          "metadata": {},
          "execution_count": 11
        }
      ]
    },
    {
      "cell_type": "code",
      "source": [
        "i = 0\n",
        "for y in zip(y_true, y_pred):\n",
        "  if y[0] == 1 and y[1] == 1:\n",
        "    print(f'Correcte: {labelIndex.id2label[i]}')\n",
        "  if y[0] != y[1]:\n",
        "    if y[0] == 1:\n",
        "      print(f'Error: ground truth: {labelIndex.id2label[i]}, però no predit.')\n",
        "    else:\n",
        "      print(f'Error: predit: {labelIndex.id2label[i]}, però no al ground truth.')\n",
        "  i += 1"
      ],
      "metadata": {
        "colab": {
          "base_uri": "https://localhost:8080/"
        },
        "id": "PBSX9IVfkQe6",
        "outputId": "19a9411a-0cbc-4f19-d846-b6af8598de7d"
      },
      "execution_count": 12,
      "outputs": [
        {
          "output_type": "stream",
          "name": "stdout",
          "text": [
            "Correcte: 4743\n"
          ]
        }
      ]
    },
    {
      "cell_type": "code",
      "source": [],
      "metadata": {
        "id": "VDcEia4ZPNly"
      },
      "execution_count": null,
      "outputs": []
    }
  ],
  "metadata": {
    "colab": {
      "provenance": [],
      "authorship_tag": "ABX9TyNytL8O48lOo32ILny1txnW",
      "include_colab_link": true
    },
    "kernelspec": {
      "display_name": "Python 3",
      "name": "python3"
    },
    "language_info": {
      "name": "python"
    }
  },
  "nbformat": 4,
  "nbformat_minor": 0
}