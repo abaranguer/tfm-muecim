{
 "cells": [
  {
   "cell_type": "code",
   "execution_count": 2,
   "id": "d470f88f-668d-46a2-b722-6ebd6a0abe31",
   "metadata": {},
   "outputs": [],
   "source": [
    "from tfm_50LabelsDataFrameBuilderBase import _50LabelsDataFrameBuilderBase"
   ]
  },
  {
   "cell_type": "code",
   "execution_count": 14,
   "id": "816c08b6-4b19-4f7e-859d-b4902b8db5c6",
   "metadata": {},
   "outputs": [
    {
     "name": "stdout",
     "output_type": "stream",
     "text": [
      "The token has not been saved to the git credentials helper. Pass `add_to_git_credential=True` in this function directly or `--add-to-git-credential` if using via `huggingface-cli` if you want to set the git credential as well.\n",
      "Token is valid (permission: fineGrained).\n",
      "Your token has been saved to /home/albert/.cache/huggingface/token\n",
      "Login successful\n"
     ]
    }
   ],
   "source": [
    "from huggingface_hub import login\n",
    "\n",
    "with open('HF_token.txt') as fd:\n",
    "    lines = fd.readlines()\n",
    "    \n",
    "hf_token = lines[0].strip()\n",
    "login(hf_token)"
   ]
  },
  {
   "cell_type": "code",
   "execution_count": 6,
   "id": "4ebf056e-193c-4e6c-abc5-8cd482e2867f",
   "metadata": {},
   "outputs": [
    {
     "name": "stdout",
     "output_type": "stream",
     "text": [
      "Loading \"meta-llama/Llama-3.3-70B-Instruct\" tokenizer.\n"
     ]
    },
    {
     "data": {
      "application/vnd.jupyter.widget-view+json": {
       "model_id": "3e5db5b423a54ff4bdf89f20f7f6d010",
       "version_major": 2,
       "version_minor": 0
      },
      "text/plain": [
       "tokenizer_config.json:   0%|          | 0.00/55.4k [00:01<?, ?B/s]"
      ]
     },
     "metadata": {},
     "output_type": "display_data"
    },
    {
     "data": {
      "application/vnd.jupyter.widget-view+json": {
       "model_id": "f00428497c064bcba1f9d35ef410a2f1",
       "version_major": 2,
       "version_minor": 0
      },
      "text/plain": [
       "tokenizer.json:   0%|          | 0.00/17.2M [00:00<?, ?B/s]"
      ]
     },
     "metadata": {},
     "output_type": "display_data"
    },
    {
     "data": {
      "application/vnd.jupyter.widget-view+json": {
       "model_id": "674d4a9413c24b8fa28aba9e66a972a0",
       "version_major": 2,
       "version_minor": 0
      },
      "text/plain": [
       "special_tokens_map.json:   0%|          | 0.00/68.0 [00:00<?, ?B/s]"
      ]
     },
     "metadata": {},
     "output_type": "display_data"
    },
    {
     "name": "stdout",
     "output_type": "stream",
     "text": [
      "Building reduced data frame\n",
      "Index: 0\n",
      "Index: 1000\n",
      "Index: 2000\n",
      "Index: 3000\n",
      "Index: 4000\n",
      "Index: 5000\n",
      "Index: 6000\n",
      "Index: 7000\n",
      "Index: 8000\n",
      "Index: 9000\n",
      "Index: 10000\n",
      "Index: 11000\n",
      "Index: 12000\n",
      "Index: 13000\n",
      "Index: 14000\n",
      "Index: 15000\n",
      "Index: 16000\n",
      "Index: 17000\n",
      "Index: 18000\n",
      "Index: 19000\n",
      "Index: 20000\n",
      "Index: 21000\n",
      "Index: 22000\n",
      "Index: 23000\n",
      "Index: 24000\n",
      "Index: 25000\n",
      "Index: 26000\n",
      "Index: 27000\n",
      "Index: 28000\n",
      "Init CSV saving\n",
      "50 Labels meta-llama/Llama-3.3-70B-Instruct CSV DataFrame Created\n"
     ]
    },
    {
     "data": {
      "text/plain": [
       "<tfm_50LabelsDataFrameBuilderBase._50LabelsDataFrameBuilderBase at 0x7ff85b69f970>"
      ]
     },
     "execution_count": 6,
     "metadata": {},
     "output_type": "execute_result"
    }
   ],
   "source": [
    "baseDir = '.'\n",
    "labelsIndexFile = '50LabelsLabelSetFileIndex.txt'\n",
    "dataFrameFile = '50LabelsLlama3.3.70BDataset.csv'\n",
    "model_id = \"meta-llama/Llama-3.3-70B-Instruct\"\n",
    "\n",
    "_50LabelsDataFrameBuilderBase(baseDir,\n",
    "                              labelsIndexFile,\n",
    "                              dataFrameFile,\n",
    "                              model_id)"
   ]
  }
 ],
 "metadata": {
  "kernelspec": {
   "display_name": "Python 3 (ipykernel)",
   "language": "python",
   "name": "python3"
  },
  "language_info": {
   "codemirror_mode": {
    "name": "ipython",
    "version": 3
   },
   "file_extension": ".py",
   "mimetype": "text/x-python",
   "name": "python",
   "nbconvert_exporter": "python",
   "pygments_lexer": "ipython3",
   "version": "3.10.16"
  }
 },
 "nbformat": 4,
 "nbformat_minor": 5
}
