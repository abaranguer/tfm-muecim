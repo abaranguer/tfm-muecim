{
  "cells": [
    {
      "cell_type": "markdown",
      "metadata": {
        "id": "view-in-github",
        "colab_type": "text"
      },
      "source": [
        "<a href=\"https://colab.research.google.com/github/abaranguer/tfm-muecim/blob/main/ColabNotebooks/start_colab_tfm_web_CLOUDFLARE.ipynb\" target=\"_parent\"><img src=\"https://colab.research.google.com/assets/colab-badge.svg\" alt=\"Open In Colab\"/></a>"
      ]
    },
    {
      "cell_type": "markdown",
      "metadata": {
        "id": "hQZAUyj-OHva"
      },
      "source": [
        "# START TFM WEB FRONTEND (CLOUDFLARE Version)\n",
        "\n",
        "https://colab.research.google.com/github/UWUplus/flask-cloudflared/blob/main/examples/flask_cloudflared_example.ipynb"
      ]
    },
    {
      "cell_type": "code",
      "execution_count": 10,
      "metadata": {
        "colab": {
          "base_uri": "https://localhost:8080/"
        },
        "id": "1_Fo2mv2QJkG",
        "outputId": "f876bc98-736f-4dfa-e24d-c6396d187c26"
      },
      "outputs": [
        {
          "output_type": "stream",
          "name": "stdout",
          "text": [
            "Drive already mounted at /content/drive; to attempt to forcibly remount, call drive.mount(\"/content/drive\", force_remount=True).\n"
          ]
        }
      ],
      "source": [
        "from google.colab import drive\n",
        "drive.mount('/content/drive')"
      ]
    },
    {
      "cell_type": "code",
      "source": [
        "!pip install flask-cloudflared"
      ],
      "metadata": {
        "colab": {
          "base_uri": "https://localhost:8080/"
        },
        "id": "wK_5VfR-ritM",
        "outputId": "ab1c9765-a0f8-477d-8a2e-51b8205cd943"
      },
      "execution_count": 11,
      "outputs": [
        {
          "output_type": "stream",
          "name": "stdout",
          "text": [
            "Collecting flask-cloudflared\n",
            "  Downloading flask_cloudflared-0.0.14-py3-none-any.whl.metadata (4.6 kB)\n",
            "Requirement already satisfied: Flask>=0.8 in /usr/local/lib/python3.11/dist-packages (from flask-cloudflared) (3.1.1)\n",
            "Requirement already satisfied: requests in /usr/local/lib/python3.11/dist-packages (from flask-cloudflared) (2.32.3)\n",
            "Requirement already satisfied: blinker>=1.9.0 in /usr/local/lib/python3.11/dist-packages (from Flask>=0.8->flask-cloudflared) (1.9.0)\n",
            "Requirement already satisfied: click>=8.1.3 in /usr/local/lib/python3.11/dist-packages (from Flask>=0.8->flask-cloudflared) (8.2.1)\n",
            "Requirement already satisfied: itsdangerous>=2.2.0 in /usr/local/lib/python3.11/dist-packages (from Flask>=0.8->flask-cloudflared) (2.2.0)\n",
            "Requirement already satisfied: jinja2>=3.1.2 in /usr/local/lib/python3.11/dist-packages (from Flask>=0.8->flask-cloudflared) (3.1.6)\n",
            "Requirement already satisfied: markupsafe>=2.1.1 in /usr/local/lib/python3.11/dist-packages (from Flask>=0.8->flask-cloudflared) (3.0.2)\n",
            "Requirement already satisfied: werkzeug>=3.1.0 in /usr/local/lib/python3.11/dist-packages (from Flask>=0.8->flask-cloudflared) (3.1.3)\n",
            "Requirement already satisfied: charset-normalizer<4,>=2 in /usr/local/lib/python3.11/dist-packages (from requests->flask-cloudflared) (3.4.2)\n",
            "Requirement already satisfied: idna<4,>=2.5 in /usr/local/lib/python3.11/dist-packages (from requests->flask-cloudflared) (3.10)\n",
            "Requirement already satisfied: urllib3<3,>=1.21.1 in /usr/local/lib/python3.11/dist-packages (from requests->flask-cloudflared) (2.4.0)\n",
            "Requirement already satisfied: certifi>=2017.4.17 in /usr/local/lib/python3.11/dist-packages (from requests->flask-cloudflared) (2025.4.26)\n",
            "Downloading flask_cloudflared-0.0.14-py3-none-any.whl (6.4 kB)\n",
            "Installing collected packages: flask-cloudflared\n",
            "Successfully installed flask-cloudflared-0.0.14\n"
          ]
        }
      ]
    },
    {
      "cell_type": "code",
      "execution_count": 12,
      "metadata": {
        "id": "HK1irfYzOQ8c"
      },
      "outputs": [],
      "source": [
        "!cp /content/drive/MyDrive/TFM-MUECIM/tfm_www.tar .\n",
        "!cd /content; tar xf tfm_www.tar\n",
        "!cp -r /content/drive/MyDrive/TFM-MUECIM/src /content/src\n",
        "!cp -r /content/drive/MyDrive/TFM-MUECIM/sh /content/sh\n",
        "!cp -r /content/drive/MyDrive/TFM-MUECIM/ipynb /content/ipynb\n",
        "!cp -r /content/drive/MyDrive/TFM-MUECIM/txt /content/txt\n",
        "!cp -r /content/drive/MyDrive/TFM-MUECIM/trained-models /content/trained-models\n",
        "!cp -r /content/drive/MyDrive/TFM-MUECIM/bert-csv-and-graphs /bert-csv-and-graphs\n",
        "!rm /content/tfm_www.tar\n",
        "!cp sh/tar_tfm_www.sh .\n",
        "!cp sh/tfm_www_copy.sh .\n",
        "!cp src/tfm_EURLEX57KDataset.py .\n",
        "!cp src/tfm_50LabelsLabelIndex.py ."
      ]
    },
    {
      "cell_type": "markdown",
      "source": [],
      "metadata": {
        "id": "OFjs7wgT_QQH"
      }
    }
  ],
  "metadata": {
    "colab": {
      "provenance": [],
      "machine_shape": "hm",
      "mount_file_id": "1htxa8O8EkxXDJT7KDEeSJmNXyfr88UgM",
      "authorship_tag": "ABX9TyNtVFGeeQfHMz9tsnFSecT6",
      "include_colab_link": true
    },
    "kernelspec": {
      "display_name": "Python 3",
      "name": "python3"
    },
    "language_info": {
      "name": "python"
    }
  },
  "nbformat": 4,
  "nbformat_minor": 0
}