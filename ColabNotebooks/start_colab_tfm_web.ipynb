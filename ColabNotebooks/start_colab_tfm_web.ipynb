{
  "cells": [
    {
      "cell_type": "markdown",
      "metadata": {
        "id": "view-in-github",
        "colab_type": "text"
      },
      "source": [
        "<a href=\"https://colab.research.google.com/github/abaranguer/tfm-muecim/blob/main/'Colab%20Notebooks'/start_colab_tfm_web.ipynb\" target=\"_parent\"><img src=\"https://colab.research.google.com/assets/colab-badge.svg\" alt=\"Open In Colab\"/></a>"
      ]
    },
    {
      "cell_type": "markdown",
      "metadata": {
        "id": "hQZAUyj-OHva"
      },
      "source": [
        "# START TFM WEB FRONTEND\n",
        "\n",
        "https://deveshsurve.medium.com/running-flask-app-with-google-colab-c9f0c078fb53\n"
      ]
    },
    {
      "cell_type": "code",
      "execution_count": null,
      "metadata": {
        "colab": {
          "base_uri": "https://localhost:8080/"
        },
        "id": "1_Fo2mv2QJkG",
        "outputId": "b982fbf5-c179-4cd3-c783-3ae888f122a1"
      },
      "outputs": [
        {
          "output_type": "stream",
          "name": "stdout",
          "text": [
            "Drive already mounted at /content/drive; to attempt to forcibly remount, call drive.mount(\"/content/drive\", force_remount=True).\n"
          ]
        }
      ],
      "source": [
        "from google.colab import drive\n",
        "drive.mount('/content/drive')"
      ]
    },
    {
      "cell_type": "markdown",
      "source": [],
      "metadata": {
        "id": "wMwOpIi52mwb"
      }
    },
    {
      "cell_type": "code",
      "execution_count": null,
      "metadata": {
        "id": "HK1irfYzOQ8c"
      },
      "outputs": [],
      "source": [
        "!cp /content/drive/MyDrive/TFM-MUECIM/tfm_www.tar .\n",
        "!cd /content; tar xf tfm_www.tar\n",
        "!cp -r /content/drive/MyDrive/TFM-MUECIM/src /content/src\n",
        "!cp -r /content/drive/MyDrive/TFM-MUECIM/sh /content/sh\n",
        "!cp -r /content/drive/MyDrive/TFM-MUECIM/ipynb /content/ipynb\n",
        "!cp -r /content/drive/MyDrive/TFM-MUECIM/txt /content/txt\n",
        "!cp -r /content/drive/MyDrive/TFM-MUECIM/trained-models /content/trained-models\n",
        "!rm /content/tfm_www.tar\n",
        "!cp sh/tar_tfm_www.sh .\n",
        "!cp sh/copy_tfm_www.sh ."
      ]
    },
    {
      "cell_type": "code",
      "execution_count": 8,
      "metadata": {
        "colab": {
          "base_uri": "https://localhost:8080/",
          "height": 35
        },
        "id": "22ctxDRZ0JTS",
        "outputId": "c8a2cc7b-0212-4496-94f4-85dbfb0ff39b"
      },
      "outputs": [
        {
          "output_type": "stream",
          "name": "stdout",
          "text": [
            "Per a executar el frontend web del TFM, fes click a https://5000-m-s-17nnl7xikbh1t-a.us-east4-1.prod.colab.dev/index.html\n"
          ]
        }
      ],
      "source": [
        "from google.colab.output import eval_js\n",
        "print(f'Per a executar el frontend web del TFM, fes click a {eval_js(\"google.colab.kernel.proxyPort(5000)\")}/index.html')"
      ]
    }
  ],
  "metadata": {
    "colab": {
      "provenance": [],
      "mount_file_id": "1htxa8O8EkxXDJT7KDEeSJmNXyfr88UgM",
      "authorship_tag": "ABX9TyNJXgNA1VmQ9qt4ckCJgVmS",
      "include_colab_link": true
    },
    "kernelspec": {
      "display_name": "Python 3",
      "name": "python3"
    },
    "language_info": {
      "name": "python"
    }
  },
  "nbformat": 4,
  "nbformat_minor": 0
}