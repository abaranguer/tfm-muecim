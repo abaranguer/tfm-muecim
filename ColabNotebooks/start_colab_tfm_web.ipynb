{
  "cells": [
    {
      "cell_type": "markdown",
      "metadata": {
        "id": "view-in-github",
        "colab_type": "text"
      },
      "source": [
        "<a href=\"https://colab.research.google.com/github/abaranguer/tfm-muecim/blob/main/ColabNotebooks/start_colab_tfm_web.ipynb\" target=\"_parent\"><img src=\"https://colab.research.google.com/assets/colab-badge.svg\" alt=\"Open In Colab\"/></a>"
      ]
    },
    {
      "cell_type": "markdown",
      "metadata": {
        "id": "hQZAUyj-OHva"
      },
      "source": [
        "# START TFM WEB FRONTEND\n",
        "\n",
        "https://deveshsurve.medium.com/running-flask-app-with-google-colab-c9f0c078fb53\n"
      ]
    },
    {
      "cell_type": "code",
      "execution_count": 1,
      "metadata": {
        "colab": {
          "base_uri": "https://localhost:8080/"
        },
        "id": "1_Fo2mv2QJkG",
        "outputId": "a6b11f2d-db5b-4304-b1b7-8709a3ae6617"
      },
      "outputs": [
        {
          "output_type": "stream",
          "name": "stdout",
          "text": [
            "Drive already mounted at /content/drive; to attempt to forcibly remount, call drive.mount(\"/content/drive\", force_remount=True).\n"
          ]
        }
      ],
      "source": [
        "from google.colab import drive\n",
        "drive.mount('/content/drive')"
      ]
    },
    {
      "cell_type": "markdown",
      "source": [],
      "metadata": {
        "id": "wMwOpIi52mwb"
      }
    },
    {
      "cell_type": "code",
      "execution_count": 2,
      "metadata": {
        "id": "HK1irfYzOQ8c"
      },
      "outputs": [],
      "source": [
        "!cp /content/drive/MyDrive/TFM-MUECIM/tfm_www.tar .\n",
        "!cd /content; tar xf tfm_www.tar\n",
        "!cp -r /content/drive/MyDrive/TFM-MUECIM/src /content/src\n",
        "!cp -r /content/drive/MyDrive/TFM-MUECIM/sh /content/sh\n",
        "!cp -r /content/drive/MyDrive/TFM-MUECIM/ipynb /content/ipynb\n",
        "!cp -r /content/drive/MyDrive/TFM-MUECIM/txt /content/txt\n",
        "!cp -r /content/drive/MyDrive/TFM-MUECIM/trained-models /content/trained-models\n",
        "!cp -r /content/drive/MyDrive/TFM-MUECIM/bert-csv-and-graphs /bert-csv-and-graphs\n",
        "!rm /content/tfm_www.tar\n",
        "!cp sh/tar_tfm_www.sh .\n",
        "!cp sh/tfm_www_copy.sh .\n",
        "!cp src/tfm_EURLEX57KDataset.py .\n",
        "!cp src/tfm_50LabelsLabelIndex.py ."
      ]
    },
    {
      "cell_type": "code",
      "execution_count": null,
      "metadata": {
        "id": "22ctxDRZ0JTS",
        "outputId": "c67d7e98-dab0-47bd-ff87-ff328c97df32",
        "colab": {
          "base_uri": "https://localhost:8080/",
          "height": 35
        }
      },
      "outputs": [
        {
          "output_type": "stream",
          "name": "stdout",
          "text": [
            "Per a executar el frontend web del TFM, fes click a https://5000-m-hm-1f21ib5akpj2g-f.us-central1-1.prod.colab.dev/index.html\n"
          ]
        }
      ],
      "source": [
        "from google.colab.output import eval_js\n",
        "print(f'Per a executar el frontend web del TFM, fes click a {eval_js(\"google.colab.kernel.proxyPort(5000)\")}/index.html')"
      ]
    },
    {
      "cell_type": "markdown",
      "source": [],
      "metadata": {
        "id": "OFjs7wgT_QQH"
      }
    }
  ],
  "metadata": {
    "colab": {
      "provenance": [],
      "machine_shape": "hm",
      "mount_file_id": "1htxa8O8EkxXDJT7KDEeSJmNXyfr88UgM",
      "authorship_tag": "ABX9TyNI89eWy//gVGBd2AQRr2E9",
      "include_colab_link": true
    },
    "kernelspec": {
      "display_name": "Python 3",
      "name": "python3"
    },
    "language_info": {
      "name": "python"
    }
  },
  "nbformat": 4,
  "nbformat_minor": 0
}