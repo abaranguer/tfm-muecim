{
  "cells": [
    {
      "cell_type": "markdown",
      "metadata": {
        "id": "view-in-github",
        "colab_type": "text"
      },
      "source": [
        "<a href=\"https://colab.research.google.com/github/abaranguer/tfm-muecim/blob/main/ColabNotebooks/start_colab_tfm_web.ipynb\" target=\"_parent\"><img src=\"https://colab.research.google.com/assets/colab-badge.svg\" alt=\"Open In Colab\"/></a>"
      ]
    },
    {
      "cell_type": "markdown",
      "metadata": {
        "id": "hQZAUyj-OHva"
      },
      "source": [
        "# START TFM WEB FRONTEND\n",
        "\n",
        "https://deveshsurve.medium.com/running-flask-app-with-google-colab-c9f0c078fb53\n"
      ]
    },
    {
      "cell_type": "code",
      "execution_count": 1,
      "metadata": {
        "colab": {
          "base_uri": "https://localhost:8080/"
        },
        "id": "1_Fo2mv2QJkG",
        "outputId": "22bb1dee-e7e1-42c3-8aa3-9a367548c0ae"
      },
      "outputs": [
        {
          "output_type": "stream",
          "name": "stdout",
          "text": [
            "Drive already mounted at /content/drive; to attempt to forcibly remount, call drive.mount(\"/content/drive\", force_remount=True).\n"
          ]
        }
      ],
      "source": [
        "from google.colab import drive\n",
        "drive.mount('/content/drive')"
      ]
    },
    {
      "cell_type": "markdown",
      "source": [],
      "metadata": {
        "id": "wMwOpIi52mwb"
      }
    },
    {
      "cell_type": "code",
      "execution_count": 2,
      "metadata": {
        "id": "HK1irfYzOQ8c"
      },
      "outputs": [],
      "source": [
        "!cp /content/drive/MyDrive/TFM-MUECIM/tfm_www.tar .\n",
        "!cd /content; tar xf tfm_www.tar\n",
        "!cp -r /content/drive/MyDrive/TFM-MUECIM/src /content/src\n",
        "!cp -r /content/drive/MyDrive/TFM-MUECIM/sh /content/sh\n",
        "!cp -r /content/drive/MyDrive/TFM-MUECIM/ipynb /content/ipynb\n",
        "!cp -r /content/drive/MyDrive/TFM-MUECIM/txt /content/txt\n",
        "!cp -r /content/drive/MyDrive/TFM-MUECIM/trained-models /content/trained-models\n",
        "!rm /content/tfm_www.tar\n",
        "!cp sh/tar_tfm_www.sh .\n",
        "!cp sh/tfm_www_copy.sh .\n",
        "!cp src/tfm_EURLEX57KDataset.py .\n",
        "!cp src/tfm_50LabelsLabelIndex.py ."
      ]
    },
    {
      "cell_type": "code",
      "execution_count": 26,
      "metadata": {
        "id": "22ctxDRZ0JTS",
        "colab": {
          "base_uri": "https://localhost:8080/",
          "height": 35
        },
        "outputId": "f5880c0e-3590-464c-9a68-6d7add6e3771"
      },
      "outputs": [
        {
          "output_type": "stream",
          "name": "stdout",
          "text": [
            "Per a executar el frontend web del TFM, fes click a https://5000-m-hm-og6fb40vpt1p-a.asia-east1-1.prod.colab.dev/index.html\n"
          ]
        }
      ],
      "source": [
        "from google.colab.output import eval_js\n",
        "print(f'Per a executar el frontend web del TFM, fes click a {eval_js(\"google.colab.kernel.proxyPort(5000)\")}/index.html')"
      ]
    },
    {
      "cell_type": "markdown",
      "source": [],
      "metadata": {
        "id": "OFjs7wgT_QQH"
      }
    }
  ],
  "metadata": {
    "colab": {
      "provenance": [],
      "machine_shape": "hm",
      "mount_file_id": "1htxa8O8EkxXDJT7KDEeSJmNXyfr88UgM",
      "authorship_tag": "ABX9TyOD35/YNDF2Jqp5XuboGZMv",
      "include_colab_link": true
    },
    "kernelspec": {
      "display_name": "Python 3",
      "name": "python3"
    },
    "language_info": {
      "name": "python"
    }
  },
  "nbformat": 4,
  "nbformat_minor": 0
}